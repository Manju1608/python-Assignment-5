{
  "nbformat": 4,
  "nbformat_minor": 0,
  "metadata": {
    "colab": {
      "name": "Welcome To Colaboratory",
      "provenance": [],
      "collapsed_sections": [],
      "include_colab_link": true
    },
    "kernelspec": {
      "display_name": "Python 3",
      "name": "python3"
    }
  },
  "cells": [
    {
      "cell_type": "markdown",
      "metadata": {
        "id": "view-in-github",
        "colab_type": "text"
      },
      "source": [
        "<a href=\"https://colab.research.google.com/github/Manju1608/python-Assignment-5/blob/master/Assignment5_area_of_regular_polygon.ipynb\" target=\"_parent\"><img src=\"https://colab.research.google.com/assets/colab-badge.svg\" alt=\"Open In Colab\"/></a>"
      ]
    },
    {
      "cell_type": "code",
      "metadata": {
        "id": "FL12jgFqwWiw",
        "colab_type": "code",
        "colab": {
          "base_uri": "https://localhost:8080/",
          "height": 149
        },
        "outputId": "d5dd692b-2c15-43dd-dd0a-fc97cee5cd52"
      },
      "source": [
        " \n",
        "from math import tan, pin_sides = int(input(\"Input number of sides: \"))s_length = float(input(\"Input the length of a side: \"))p_area = n_sides * (s_length ** 2) / (4 * tan(pi / n_sides))print(\"The area of the polygon is: \",p_area"
      ],
      "execution_count": 2,
      "outputs": [
        {
          "output_type": "error",
          "ename": "SyntaxError",
          "evalue": "ignored",
          "traceback": [
            "\u001b[0;36m  File \u001b[0;32m\"<ipython-input-2-94adbb7b44ab>\"\u001b[0;36m, line \u001b[0;32m2\u001b[0m\n\u001b[0;31m    from math import tan, pin_sides = int(input(\"Input number of sides: \"))s_length = float(input(\"Input the length of a side: \"))p_area = n_sides * (s_length ** 2) / (4 * tan(pi / n_sides))print(\"The area of the polygon is: \",p_area\u001b[0m\n\u001b[0m                                    ^\u001b[0m\n\u001b[0;31mSyntaxError\u001b[0m\u001b[0;31m:\u001b[0m invalid syntax\n"
          ]
        }
      ]
    }
  ]
}